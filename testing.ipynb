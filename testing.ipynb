{
 "cells": [
  {
   "cell_type": "code",
   "execution_count": 19,
   "metadata": {},
   "outputs": [],
   "source": [
    "import inspect\n",
    "\n",
    "class OverloadedFunction(list):\n",
    "    '''\n",
    "        wrapper around list of functions\n",
    "        enable us to call it with arguments and it finds best match\n",
    "    '''\n",
    "    def __init__(self, f, name):\n",
    "        super().__init__()\n",
    "        self.append(f)\n",
    "        self.name = name\n",
    "        self.caller = None\n",
    "    \n",
    "    def __call__(self, *args, **kwargs):\n",
    "        for func in self:\n",
    "            sig = inspect.signature(func)\n",
    "            try:\n",
    "                bind = sig.bind(self.caller, *args, **kwargs)\n",
    "                for key in bind.arguments:\n",
    "                    if not sig.parameters[key].annotation == inspect.Parameter.empty:\n",
    "                        if not isinstance(bind.arguments[key], sig.parameters[key].annotation):\n",
    "                            break\n",
    "                else:\n",
    "                    return func(self.caller, *args, **kwargs)\n",
    "            except:\n",
    "                pass           \n",
    "    \n",
    "    def __get__(self, instance, cls):\n",
    "        self.caller = instance\n",
    "        return cls.__dict__[self.name]\n",
    "    \n",
    "    def __repr__(self):\n",
    "        return '<overloaded function> signatures: ' \\\n",
    "                + str([inspect.signature(func) for func in self])\n",
    "\n",
    "class OverloadingDict(dict):\n",
    "    def __setitem__(self, key, value):\n",
    "        if callable(value):\n",
    "            if key in self:\n",
    "                if not isinstance(self[key], list):\n",
    "                    super().__setitem__(key, OverloadedFunction(self[key], key))\n",
    "                self[key].append(value)\n",
    "            else:\n",
    "                super().__setitem__(key, value)\n",
    "        else:\n",
    "            super().__setitem__(key, value)\n",
    "\n",
    "            \n",
    "class OverloadingMeta(type):\n",
    "    @classmethod\n",
    "    def __prepare__(cls, name, bases):\n",
    "        return OverloadingDict()\n",
    "    \n",
    "    def __new__(cls, clsname, bases, classdict):\n",
    "#         for key in classdict:\n",
    "#             if isinstance(classdict[key], OverloadedFunc):\n",
    "#                 classdict[key].sort\n",
    "        return super().__new__(cls, clsname, bases, dict(classdict))\n",
    "    \n",
    "class OverloadingClass(metaclass=OverloadingMeta):\n",
    "    pass\n",
    "    "
   ]
  },
  {
   "cell_type": "code",
   "execution_count": 20,
   "metadata": {},
   "outputs": [],
   "source": [
    "class Spam(OverloadingClass):\n",
    "    def __init__(self, name):\n",
    "        self.name = name\n",
    "        \n",
    "    def foo(self):\n",
    "        print(f'{self.name}: no arguments')\n",
    "        \n",
    "    def foo(self, x:int):\n",
    "        print(f'{self.name}: integer func {x}')\n",
    "        \n",
    "    def foo(self, x:float):\n",
    "        print(f'{self.name}: function with float {x}')\n",
    "        \n",
    "    def foo(self, x:str, y:str):\n",
    "        print(f'{self.name}: {x} {y}')"
   ]
  },
  {
   "cell_type": "code",
   "execution_count": 21,
   "metadata": {},
   "outputs": [
    {
     "name": "stdout",
     "output_type": "stream",
     "text": [
      "\n",
      "GoodNameForClass: no arguments\n",
      "GoodNameForClass: integer func 1\n",
      "GoodNameForClass: function with float 1.2\n",
      "GoodNameForClass: blabla bla\n"
     ]
    }
   ],
   "source": [
    "print()\n",
    "s = Spam('GoodNameForClass')\n",
    "s.foo()\n",
    "s.foo(1)\n",
    "s.foo(1.2)\n",
    "s.foo('blabla', 'bla')"
   ]
  },
  {
   "cell_type": "code",
   "execution_count": 23,
   "metadata": {},
   "outputs": [
    {
     "data": {
      "text/plain": [
       "369.0"
      ]
     },
     "execution_count": 23,
     "metadata": {},
     "output_type": "execute_result"
    }
   ],
   "source": [
    "30.75*12"
   ]
  },
  {
   "cell_type": "code",
   "execution_count": null,
   "metadata": {},
   "outputs": [],
   "source": []
  }
 ],
 "metadata": {
  "kernelspec": {
   "display_name": "Python 3.6.9 64-bit",
   "language": "python",
   "name": "python36964bitc2451627e2b84b4690429b762eca01d8"
  },
  "language_info": {
   "codemirror_mode": {
    "name": "ipython",
    "version": 3
   },
   "file_extension": ".py",
   "mimetype": "text/x-python",
   "name": "python",
   "nbconvert_exporter": "python",
   "pygments_lexer": "ipython3",
   "version": "3.6.9"
  }
 },
 "nbformat": 4,
 "nbformat_minor": 2
}
